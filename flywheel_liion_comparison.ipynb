{
 "cells": [
  {
   "cell_type": "markdown",
   "metadata": {},
   "source": [
    "# Preface\n",
    "This preface imports libraries to support the simulation.  Feel free to ignore it and skip stragiht to the Abstract"
   ]
  },
  {
   "cell_type": "code",
   "execution_count": 1,
   "metadata": {
    "collapsed": false
   },
   "outputs": [
    {
     "name": "stdout",
     "output_type": "stream",
     "text": [
      "Populating the interactive namespace from numpy and matplotlib\n"
     ]
    }
   ],
   "source": [
    "%pylab inline\n",
    "import numpy as np\n",
    "\n",
    "# Import libraries defined elsewhere in this repo.\n",
    "import financial as financial\n",
    "import li_ion as liion\n",
    "\n",
    "# Include plotting functions.\n",
    "exec(open(\"figure_plotters.py\").read())"
   ]
  },
  {
   "cell_type": "markdown",
   "metadata": {},
   "source": [
    "# Abstract\n",
    "In this report we will calculate the value of installing a flywheel grid energy storage system and compare it directly to a similarly sized Lithium Ion battery installation.  This work focuses on the *relative* profits of Lithium Ion versus Flywheel installation.  The reported *absolute* profits have very high uncertainty.  For example, the cost of the electronics used to feed the DC bus are common to both systems, so they are completely ignored.\n",
    "\n",
    "The final plot in this report summarizes the present value of each investment."
   ]
  },
  {
   "cell_type": "markdown",
   "metadata": {},
   "source": [
    "# Parameters\n",
    "First we will define system parameters."
   ]
  },
  {
   "cell_type": "code",
   "execution_count": 2,
   "metadata": {
    "collapsed": false
   },
   "outputs": [],
   "source": [
    "def PhysicalConstants():\n",
    "    c = {\n",
    "    'J_per_kWh': 3600e3,  # [J/kWh]\n",
    "    }\n",
    "    return c\n",
    "\n",
    "def CommonParameters():\n",
    "    pm = {\n",
    "    # Daily energy storage request specified in kWh.\n",
    "    'daily_storage_request': 29.0 * c['J_per_kWh'],  # [J]\n",
    "\n",
    "    # Discount rate.\n",
    "    'annual_discount_rate': 0.04,  # [#]\n",
    "\n",
    "    # Purchase Price of Energy, specified in $/kWh.\n",
    "    'purchase_price': 0.01/c['J_per_kWh'],  # [$/J]\n",
    "\n",
    "    # Sale Price of Energy specified in $/kWh.\n",
    "    'sale_price': 0.12/c['J_per_kWh'],  # [$/J] \n",
    "    \n",
    "    # Year the project is built.\n",
    "    'start_year': 2017,  # [calendar year]\n",
    "    }\n",
    "    return pm\n",
    "\n",
    "def BatteryParameters():\n",
    "    pm_bat = {\n",
    "    # Initial theoretical capacity specified in kWh.\n",
    "    'capacity_0': 29.0/0.75  * c['J_per_kWh'], # [J]\n",
    "        \n",
    "    # The round trip efficiency.\n",
    "    'eff_round_trip': 0.80,  # [#]\n",
    "        \n",
    "    # Operations and Maintenance cost, specified in $/kWh/year.  SWAG!!\n",
    "    'O_and_M_cost': 10.0 / c['J_per_kWh'] / 365.0,  # [$/J/day]\n",
    "    }\n",
    "    return pm_bat\n",
    "\n",
    "def FlywheelParameters():\n",
    "    c = PhysicalConstants()\n",
    "\n",
    "    system = {\n",
    "    # Rated energy storage.\n",
    "    'rated_energy': 29.0 * c['J_per_kWh'], # [J]\n",
    "\n",
    "    # Power electronics power rating.\n",
    "    'rated_power': 6.25e3,  # [W]\n",
    "        \n",
    "    # Parasitic power loss due to bearing, windage, eddy currents, etc.\n",
    "    'parasitic_power_loss': 250.0,  # [W]\n",
    "        \n",
    "    # The round trip efficiency includes all of the losses from motoring and generation mode but\n",
    "    # does not include the parasitic power loss during storage.\n",
    "    'eff_round_trip': 0.89, # [#]\n",
    "    }\n",
    "\n",
    "    steel = {\n",
    "    # Yield strength of tool steel.\n",
    "    'yield_strength': 1e9,  # [Pa]\n",
    "    \n",
    "    # Safety factor on yield strength.\n",
    "    'sf_yield': 1.5,  # [#]\n",
    "    \n",
    "    # Poisson's ratio for steel.\n",
    "    'poisson_ratio': 0.29,  # [#]\n",
    "\n",
    "    # Density of steel.\n",
    "    'density': 8000.0,  # [kg/m3]\n",
    "    }\n",
    "    \n",
    "    financials = {\n",
    "    # Operations and Maintenance cost, specified in $/kWh/year.  SWAG!!\n",
    "    'O_and_M_cost': 100.0 / c['J_per_kWh'] / 365.0,  # [$/J/day]\n",
    " \n",
    "    # Motor controller cost estimate.\n",
    "    'mc_cost_per_watt': 0.10,  # [$/W]\n",
    "\n",
    "    # Motor cost estimate.  In this case, the windings.\n",
    "    'winding_cost_per_watt': 0.10,  # [$/W]\n",
    "    \n",
    "    # Typical cost for formed steel.\n",
    "    'steel_cost': 1.00,  # [$/kg]\n",
    "    }\n",
    "\n",
    "    pm_fw = {'system': system,\n",
    "             'steel': steel,\n",
    "             'financials': financials}\n",
    "    return pm_fw\n",
    "\n",
    "# Make the parameters global.\n",
    "c = PhysicalConstants()\n",
    "pm = CommonParameters()\n",
    "pm_fw = FlywheelParameters()\n",
    "pm_bat = BatteryParameters()"
   ]
  },
  {
   "cell_type": "markdown",
   "metadata": {},
   "source": [
    "# Initial Capital Cost\n",
    "Items that are common between the flywheel system and the lithium ion system are not considered.  That includes the power electronics that create the DC bus power, the electrical infrastructure, and the civil works installation costs.  We ~will~ consider the ICC of the factory-produced parts.\n",
    "\n",
    "## Flywheel Sizing\n",
    "When using a cylindrical rotor, the rated energy and material properties determine the mass of the rotor.  Any shape cylinder with a particular mass and made of a given material, will be capable of storing the same energy.  The following function designs a cylindrical flywheel rotor. "
   ]
  },
  {
   "cell_type": "code",
   "execution_count": 3,
   "metadata": {
    "collapsed": false
   },
   "outputs": [],
   "source": [
    "def DesignCylindricalFlywheel(energy, yield_strength, poisson_ratio, density, sf_yield):\n",
    "    \"\"\"Find the design parameters of the flywheel rotor based on the energy storage \n",
    "       capacity and material properties.\n",
    "    \n",
    "    Args:\n",
    "        energy: The energy storage capacity.\n",
    "        yield_strength: The yield strength of the rotor material.\n",
    "        poisson_ratio: The Poisson's Ratio of the rotor material.\n",
    "        density: The density of the rotor material.\n",
    "        sf_yield: The safety factor applied to yield strength.\n",
    "    \n",
    "    Returns:\n",
    "        The mass, length, and radius of the cylindrical rotor.\n",
    "    \n",
    "    Ref:\n",
    "        Davey, Hebner, \"A Fundamental Look At Energy Storage Focusing Primarily\n",
    "        On Flywheels And Superconducting Energy Storage\"\n",
    "    \"\"\"\n",
    "    specific_energy = 2.0 * (yield_strength/sf_yield) / (density * (3.0 + poisson_ratio))\n",
    "\n",
    "    # Find the mass.\n",
    "    m = energy/specific_energy\n",
    "\n",
    "    # Assume the flywheel has the same length and radius.  This should be sufficient to \n",
    "    # prevent the first bending mode.\n",
    "    volume = m/density\n",
    "    r = (volume/np.pi)**(1/3)\n",
    "    l = r\n",
    "\n",
    "    return m, l, r, specific_energy"
   ]
  },
  {
   "cell_type": "markdown",
   "metadata": {},
   "source": [
    "Now use the flywheel rotor design function to design a rotor for rated energy specified in the parameters."
   ]
  },
  {
   "cell_type": "code",
   "execution_count": 4,
   "metadata": {
    "collapsed": false,
    "scrolled": true
   },
   "outputs": [
    {
     "name": "stdout",
     "output_type": "stream",
     "text": [
      "Cylindrical Flywheel Specs (rotor only):\n",
      "mass            =  2061 kg\n",
      "radius          =  0.34 m\n",
      "length          =  0.69 m\n",
      "specific energy =  14.1 Wh/kg\n",
      "energy density  = 112.6 Wh/L\n"
     ]
    }
   ],
   "source": [
    "# Design the flywheel rotor.\n",
    "(m, l, r, specific_energy) = DesignCylindricalFlywheel(\n",
    "    pm_fw['system']['rated_energy'],\n",
    "    pm_fw['steel']['yield_strength'],\n",
    "    pm_fw['steel']['poisson_ratio'],\n",
    "    pm_fw['steel']['density'],\n",
    "    pm_fw['steel']['sf_yield'])\n",
    "\n",
    "PrintMLR(m, l, r, specific_energy)\n"
   ]
  },
  {
   "cell_type": "markdown",
   "metadata": {},
   "source": [
    "## Flywheel Initial Capital Cost\n",
    "Here we find the cost of the manufactured flywheel system by making estimates for each of the subsystems."
   ]
  },
  {
   "cell_type": "code",
   "execution_count": 5,
   "metadata": {
    "collapsed": false
   },
   "outputs": [
    {
     "name": "stdout",
     "output_type": "stream",
     "text": [
      "Component          Cost [$]   Cost[$/kWh]\n",
      "-----------------------------------------\n",
      "rotor               2060.86         71.06\n",
      "rotor_machining      412.17         14.21\n",
      "casing              1030.43         35.53\n",
      "bearings             309.13         10.66\n",
      "mag_lev              824.34         28.43\n",
      "windings             625.00         21.55\n",
      "mc                   625.00         21.55\n",
      "vacuum               400.00         13.79\n",
      "extras              3000.00        103.45\n",
      "-----------------------------------------\n",
      "TOTAL               9286.93        320.24\n"
     ]
    }
   ],
   "source": [
    "cost = {}\n",
    "\n",
    "# Assume the cost of rotor scales with mass\n",
    "cost['rotor'] = pm_fw['financials']['steel_cost'] * m\n",
    "\n",
    "cost['rotor_machining'] = 0.2 * cost['rotor']\n",
    "\n",
    "# Assume a portion of the rotor mass is required for the casing.\n",
    "cost['casing'] = 0.5 * cost['rotor']\n",
    "\n",
    "# Assume the bearings scale with rotor mass.\n",
    "cost['bearings'] = 0.15 * m\n",
    "\n",
    "# Assume the mag lev system cost scales with rotor mass.\n",
    "cost['mag_lev'] = 0.4 * m\n",
    "\n",
    "# Assume the cost of windings scale with power.\n",
    "cost['windings'] = pm_fw['financials']['winding_cost_per_watt'] * pm_fw['system']['rated_power']\n",
    "\n",
    "# Assume the cost of power electronics scale with power.\n",
    "cost['mc'] = pm_fw['financials']['mc_cost_per_watt'] * pm_fw['system']['rated_power']\n",
    "\n",
    "# Swag a cost at the vacuum system.\n",
    "cost['vacuum'] = 400.0  # Swag.\n",
    "\n",
    "# What did I miss?\n",
    "cost['extras'] = 3000.0\n",
    "\n",
    "# Sum up the costs.\n",
    "total_flywheel_icc = sum([cost[k] for k in cost])\n",
    "\n",
    "PrintFlywheelCosts(cost, total_flywheel_icc, pm_fw['system']['rated_energy'])\n"
   ]
  },
  {
   "cell_type": "markdown",
   "metadata": {},
   "source": [
    "## Battery Initial Capital Cost\n",
    "Estimates of lithium ion costs are wide ranging.  CleanTechnica [1] has a nice plot summarizing the spread.  \n",
    "\n",
    "<img src=\"images/EV-Battery-Prices.png\" style=\"height: 400px;\">\n",
    "\n",
    "For the purpose of estimating lithium ion cell ICC and replacement costs, we will fit an exponential decay roughly equivalent to the black line above, and asymptotic to `$`100/kWh.\n",
    "\n",
    "\n",
    "[1] http://c1cleantechnicacom-wpengine.netdna-ssl.com/files/2016/05/Nature-EV-Battery-Prices-Cheaper-than-2020-Projections.png"
   ]
  },
  {
   "cell_type": "code",
   "execution_count": 6,
   "metadata": {
    "collapsed": false
   },
   "outputs": [
    {
     "name": "stdout",
     "output_type": "stream",
     "text": [
      "Selected Points from the trend line\n",
      "Year    Price [$/kWh]\n",
      "2017     242\n",
      "2022     155\n"
     ]
    },
    {
     "data": {
      "image/png": "[encoded data removed]",
      "text/plain": [
       "<matplotlib.figure.Figure at 0x110b36c88>"
      ]
     },
     "metadata": {},
     "output_type": "display_data"
    }
   ],
   "source": [
    "def LiIonCost(year):\n",
    "    \"\"\"Return the cost of Li Ion batteries in a given year in $/J\"\"\"\n",
    "    return (1150.0*exp(-0.19*(year-2006.0)) + 100.0) / c['J_per_kWh']\n",
    "\n",
    "PlotLiIonCost()"
   ]
  },
  {
   "cell_type": "markdown",
   "metadata": {},
   "source": [
    "# Operation\n",
    "## Define the Market\n",
    "It's unknown to me how the market for grid energy storage will function, so to make progress, I've made some assumptions.  These assumptions have a large effect on absolute revenue and profit, but my guess is that since they effect the lithium ion and flywheel storage in a similar way, the comparison of relative revenue remains valid.\n",
    "\n",
    "* Assume that every day a peaker plant runs during peak demand and any storage added to the grid reduces the peaker plant's load.  Therefore, there is always opportunity to store as much energy as the storage provider wishes.  \n",
    "* Assume that the peak deficit in production lags peak over-production by 4 hours.\n",
    "* Assume the storage provider makes revenue by buying power at a low purchase price and selling it back later at a higher selling price.\n",
    "\n",
    "## Flywheel Revenue and Costs\n",
    "\n",
    "The following function will represent the daily cycle.  It will be run for each day in the expected life of the installation."
   ]
  },
  {
   "cell_type": "code",
   "execution_count": 7,
   "metadata": {
    "collapsed": true
   },
   "outputs": [],
   "source": [
    "def FlywheelDailyCycle(E_charge, purchase_price, sale_price, eff_round_trip, time_stored, parasitic_power_loss):\n",
    "    E_discharge = eff_round_trip * E_charge - time_stored * parasitic_power_loss\n",
    "    revenue = E_discharge * sale_price - E_charge * purchase_price\n",
    "    cost = pm_fw['financials']['O_and_M_cost']\n",
    "    return E_discharge, revenue, cost"
   ]
  },
  {
   "cell_type": "markdown",
   "metadata": {},
   "source": [
    "## Battery Revenue and Costs\n",
    "### Battery Capacity Deterioration\n",
    "Battery capacity deteriorates with several variables including temperature, speed-of-charge, and number and depth of charge cycles.  Here I base battery capacity deterioration solely on the number and depth of charge cycles.  The following plot shows the life data used in this analysis."
   ]
  },
  {
   "cell_type": "code",
   "execution_count": 8,
   "metadata": {
    "collapsed": false,
    "scrolled": true
   },
   "outputs": [
    {
     "name": "stdout",
     "output_type": "stream",
     "text": [
      "As shown in the plot, when charge cycles are to a depth of discharge\n",
      "of 75%, the battery capacity will be 60% of its initial capacity after 3733 cycles.\n"
     ]
    },
    {
     "data": {
      "image/png": "[encoded data removed]",
      "text/plain": [
       "<matplotlib.figure.Figure at 0x113ecd6d8>"
      ]
     },
     "metadata": {},
     "output_type": "display_data"
    }
   ],
   "source": [
    "PlotBatteryLife60()"
   ]
  },
  {
   "cell_type": "markdown",
   "metadata": {},
   "source": [
    "This data is the basis of a function named <code>UpdateBatteryCapacity()</code> defined in <code>li_ion.py</code>.  It is used to reduce the battery capacity each time the battery stores and releases energy in the simulation. Now that we have a function for reducing battery capacity with age, we can write a function to estimate battery revenues and costs during operation.  The following function will represent the daily cycle.  It will be run for each day in the expected life of the installation."
   ]
  },
  {
   "cell_type": "code",
   "execution_count": 9,
   "metadata": {
    "collapsed": true
   },
   "outputs": [],
   "source": [
    "def BatteryDailyCycle(E_charge_req, purchase_price, sale_price, eff_round_trip, capacity_0, capacity, day_num):\n",
    "    # To prevent premature degradation Li Ion is typically limited to the range 15-90% of full capacity.\n",
    "    healthy_charge_limit = 0.9 - 0.15  \n",
    "    \n",
    "    E_charge = min(healthy_charge_limit * capacity_0,\n",
    "                   capacity,\n",
    "                   E_charge_req)\n",
    "    E_discharge = eff_round_trip * E_charge\n",
    "    revenue = E_discharge * sale_price - E_charge * purchase_price\n",
    "    \n",
    "    # Every time the battery is used, its capacity is reduced.\n",
    "    capacity = liion.UpdateBatteryCapacity(capacity_0, capacity, E_charge)\n",
    "    \n",
    "    cost = pm_bat['O_and_M_cost']\n",
    "    # If the capacity falls below a threshold, then buy a new set of cells.\n",
    "    if capacity < 0.6 * capacity_0:\n",
    "        capacity = capacity_0\n",
    "        cost += capacity_0 * LiIonCost(day_num/365.0 + pm['start_year'])\n",
    "    return (E_discharge, revenue, cost, capacity)"
   ]
  },
  {
   "cell_type": "markdown",
   "metadata": {
    "collapsed": false
   },
   "source": [
    "# Financial Simulation"
   ]
  },
  {
   "cell_type": "code",
   "execution_count": 24,
   "metadata": {
    "collapsed": false
   },
   "outputs": [
    {
     "data": {
      "image/png": "[encoded data removed]",
      "text/plain": [
       "<matplotlib.figure.Figure at 0x114357a90>"
      ]
     },
     "metadata": {},
     "output_type": "display_data"
    }
   ],
   "source": [
    "# Number of days of operation.\n",
    "n = 365 * 25  # [days]\n",
    "\n",
    "# Time between charge and discharge each day.\n",
    "time_stored = 4.0 * 3600.0  # [sec]\n",
    "\n",
    "# Initialize output and state vectors.\n",
    "E_discharge_fw = np.zeros(n)\n",
    "revenues_fw = np.zeros(n)\n",
    "costs_fw = np.zeros(n)\n",
    "\n",
    "E_discharge_bat = np.zeros(n)\n",
    "revenues_bat = np.zeros(n)\n",
    "costs_bat = np.zeros(n)\n",
    "capacities_bat = np.zeros(n)\n",
    "\n",
    "# Set initial capital costs to the first element of the vectors.\n",
    "costs_fw[0] = total_flywheel_icc\n",
    "costs_bat[0] = LiIonCost(pm['start_year']) * pm_bat['capacity_0']\n",
    "capacities_bat[0] = pm_bat['capacity_0']\n",
    "\n",
    "for i in range(1, n):\n",
    "    (E_discharge_fw[i], revenues_fw[i], costs_fw[i]) = FlywheelDailyCycle(\n",
    "        pm['daily_storage_request'],\n",
    "        pm['purchase_price'],\n",
    "        pm['sale_price'],\n",
    "        pm_fw['system']['eff_round_trip'],\n",
    "        time_stored,\n",
    "        pm_fw['system']['parasitic_power_loss'])\n",
    "    \n",
    "    (E_discharge_bat[i], revenues_bat[i], costs_bat[i], capacities_bat[i]) = BatteryDailyCycle(\n",
    "        pm['daily_storage_request'],\n",
    "        pm['purchase_price'],\n",
    "        pm['sale_price'],\n",
    "        pm_bat['eff_round_trip'],\n",
    "        pm_bat['capacity_0'],\n",
    "        capacities_bat[i-1],\n",
    "        i)\n",
    "\n",
    "# Find the present value of the each future cash flow.\n",
    "discount_rate = 0.08/365.0  # [#]  The interest rate to discount future cash flows.\n",
    "present_value_fw = financial.PV(discount_rate, revenues_fw - costs_fw)\n",
    "present_value_bat = financial.PV(discount_rate, revenues_bat - costs_bat)\n",
    "\n",
    "# Plot.\n",
    "year = pm['start_year'] + np.array(range(n))/365.0\n",
    "figure(figsize=(15, 8))\n",
    "plot(year, cumsum(revenues_fw - costs_fw), color=[.7, .7, 1], linestyle=\":\", label=\"Cash Flow: Flywheel\")\n",
    "plot(year, cumsum(revenues_bat - costs_bat), color=[.7, 1, .7], linestyle=\":\", label=\"Cash Flow: Battery\")\n",
    "plot(year, cumsum(present_value_fw), \"b\", label=\"PV: Flywheel\")\n",
    "plot(year, cumsum(present_value_bat), \"g\", label=\"PV: Battery\")\n",
    "legend()\n",
    "grid(\"on\")\n",
    "title(\"Cummulative Cash Flows and Present Values\")\n",
    "ylabel(\"Cumulative Dollars [$]\")\n",
    "xlabel(\"Time [years]\");\n"
   ]
  },
  {
   "cell_type": "markdown",
   "metadata": {
    "collapsed": true
   },
   "source": [
    "# Conclusion\n",
    "Given my (imperfect) inputs and calculations, when making an investment of about `$`10k in grid storage, the present value of the returns from flywheels are about `$`4k more over the course of 25 years."
   ]
  },
  {
   "cell_type": "code",
   "execution_count": null,
   "metadata": {
    "collapsed": true
   },
   "outputs": [],
   "source": []
  }
 ],
 "metadata": {
  "kernelspec": {
   "display_name": "Python 3",
   "language": "python",
   "name": "python3"
  },
  "language_info": {
   "codemirror_mode": {
    "name": "ipython",
    "version": 3
   },
   "file_extension": ".py",
   "mimetype": "text/x-python",
   "name": "python",
   "nbconvert_exporter": "python",
   "pygments_lexer": "ipython3",
   "version": "3.6.0"
  }
 },
 "nbformat": 4,
 "nbformat_minor": 2
}
